{
 "cells": [
  {
   "cell_type": "markdown",
   "id": "bf3022d0",
   "metadata": {
    "ExecuteTime": {
     "end_time": "2023-05-06T20:00:57.554735Z",
     "start_time": "2023-05-06T20:00:57.535532Z"
    }
   },
   "source": [
    "# Classifying 3x3 mazes - Using symmetry\n",
    "In this notebook we use the same Quantum Machine Learing approach as for the Tic-Tac-Toe boards, but for a different application: determining whether a path exists between any two corners of a 3x3 maze. The following cells show some examples, where the mazes are colored green or red depending on whether it is solvable or not, respectively."
   ]
  },
  {
   "cell_type": "code",
   "execution_count": 1,
   "id": "a5b4a640",
   "metadata": {},
   "outputs": [],
   "source": [
    "from qiskit import *\n",
    "import numpy as np\n",
    "import maze as m\n",
    "\n",
    "from qiskit.quantum_info import SparsePauliOp\n",
    "from qiskit.primitives import Estimator\n",
    "\n",
    "def make_circuit(x, params, layers):\n",
    "    circ = QuantumCircuit(9)\n",
    "    for i in range(layers):\n",
    "        l = i*9\n",
    "        m.encode_data(x, circ)\n",
    "        m.add_single_qubit_gates(params[l:l+6], circ)\n",
    "        m.add_two_qubit_gates(params[l+6:l+9], circ)\n",
    "\n",
    "    return circ\n",
    "# Create a Quantum Circuit acting on a quantum register of nine qubits\n",
    "\n",
    "layers = 4\n",
    "\n",
    "params = np.random.rand(9*layers)*2*np.pi\n",
    "circ = make_circuit([1,1,0,0,0,1,0,0,0], params, layers)\n",
    "\n",
    "maze_fields, grid_combinations = m.generate_maze_field()"
   ]
  },
  {
   "cell_type": "code",
   "execution_count": 2,
   "id": "646ec2da",
   "metadata": {
    "ExecuteTime": {
     "end_time": "2023-05-06T20:00:58.284907Z",
     "start_time": "2023-05-06T20:00:58.272312Z"
    }
   },
   "outputs": [],
   "source": [
    "# Define the loss function\n",
    "def l2_loss(output, target):\n",
    "    output, target = np.array(output), np.array(target)\n",
    "    return np.abs(output - target)**2"
   ]
  },
  {
   "cell_type": "code",
   "execution_count": 3,
   "id": "af288741",
   "metadata": {
    "ExecuteTime": {
     "end_time": "2023-05-06T20:00:59.522807Z",
     "start_time": "2023-05-06T20:00:59.487528Z"
    },
    "scrolled": false
   },
   "outputs": [
    {
     "data": {
      "image/png": "[encoded data removed]",
      "text/plain": [
       "<Figure size 288x288 with 1 Axes>"
      ]
     },
     "metadata": {},
     "output_type": "display_data"
    },
    {
     "data": {
      "image/png": "[encoded data removed]",
      "text/plain": [
       "<Figure size 288x288 with 1 Axes>"
      ]
     },
     "metadata": {},
     "output_type": "display_data"
    },
    {
     "data": {
      "image/png": "[encoded data removed]",
      "text/plain": [
       "<Figure size 288x288 with 1 Axes>"
      ]
     },
     "metadata": {},
     "output_type": "display_data"
    },
    {
     "data": {
      "image/png": "[encoded data removed]",
      "text/plain": [
       "<Figure size 288x288 with 1 Axes>"
      ]
     },
     "metadata": {},
     "output_type": "display_data"
    },
    {
     "data": {
      "image/png": "[encoded data removed]",
      "text/plain": [
       "<Figure size 288x288 with 1 Axes>"
      ]
     },
     "metadata": {},
     "output_type": "display_data"
    },
    {
     "data": {
      "image/png": "[encoded data removed]",
      "text/plain": [
       "<Figure size 288x288 with 1 Axes>"
      ]
     },
     "metadata": {},
     "output_type": "display_data"
    },
    {
     "data": {
      "image/png": "[encoded data removed]",
      "text/plain": [
       "<Figure size 288x288 with 1 Axes>"
      ]
     },
     "metadata": {},
     "output_type": "display_data"
    },
    {
     "data": {
      "image/png": "[encoded data removed]",
      "text/plain": [
       "<Figure size 288x288 with 1 Axes>"
      ]
     },
     "metadata": {},
     "output_type": "display_data"
    },
    {
     "data": {
      "image/png": "[encoded data removed]",
      "text/plain": [
       "<Figure size 288x288 with 1 Axes>"
      ]
     },
     "metadata": {},
     "output_type": "display_data"
    },
    {
     "data": {
      "image/png": "[encoded data removed]",
      "text/plain": [
       "<Figure size 288x288 with 1 Axes>"
      ]
     },
     "metadata": {},
     "output_type": "display_data"
    }
   ],
   "source": [
    "x = maze_fields\n",
    "y = m.check(grid_combinations)\n",
    "#print(x)\n",
    "#print(y)\n",
    "\n",
    "# shuffle the indices\n",
    "shuffle_indices = np.random.permutation(len(x))\n",
    "train_size = int(len(x) * 0.3)\n",
    "\n",
    "# split the indices into training and testing sets\n",
    "train_indices = np.array(shuffle_indices[:train_size])\n",
    "test_indices = np.array(shuffle_indices[train_size:])\n",
    "\n",
    "# create the training and testing sets\n",
    "x_train, y_train = np.take(x, train_indices, axis=0), np.take(y, train_indices, axis=0)\n",
    "x_test, y_test = np.take(x, test_indices, axis=0), np.take(y, test_indices, axis=0)\n",
    "\n",
    "for maze in x[:10]:\n",
    "    m.plot_maze(maze)"
   ]
  },
  {
   "cell_type": "markdown",
   "id": "7362570c",
   "metadata": {},
   "source": [
    "### Run the optimization"
   ]
  },
  {
   "cell_type": "code",
   "execution_count": 26,
   "id": "d93ee256",
   "metadata": {
    "ExecuteTime": {
     "end_time": "2023-05-06T20:19:30.978758Z",
     "start_time": "2023-05-06T20:02:05.325990Z"
    },
    "scrolled": false
   },
   "outputs": [
    {
     "name": "stdout",
     "output_type": "stream",
     "text": [
      "Initial parameters: [0.34296901 1.95385271 2.8102811  5.55552378 0.3608153  5.26403483\n",
      " 5.1111402  4.07962272 3.87902491 3.56692503 2.53257745 5.74691127\n",
      " 2.47031956 5.67991957 1.6855731  0.95619582 5.76021781 0.64234735\n",
      " 4.93230741 0.17513912 1.49837118 0.29435658 4.70677863 2.95358616\n",
      " 5.70864426 5.66257257 6.07868691 0.03004654 2.79220784 5.41819084\n",
      " 5.48884542 0.30596701 1.02637267 3.4312748  5.62684747 1.43435521]\n",
      "31.92939298568108\n",
      "35.5439000545166\n",
      "34.64795935909542\n",
      "34.54568304544559\n",
      "34.07406037372596\n",
      "31.79668726962846\n",
      "35.15025033241819\n",
      "33.59247925787289\n",
      "35.8659562700329\n",
      "34.123486497710644\n",
      "36.222879965270934\n",
      "32.35404286812431\n",
      "34.13920596452887\n",
      "34.89945644739013\n",
      "32.78805599752238\n",
      "34.08707109930814\n",
      "33.473291718564475\n",
      "35.064729155103514\n",
      "34.121461572767494\n",
      "34.94953459445588\n",
      "32.729595537176614\n",
      "34.36303472881345\n",
      "33.89855805088808\n",
      "35.46146485364949\n",
      "31.645882185324368\n",
      "33.44139970629763\n",
      "34.910119100313686\n",
      "35.094571464240076\n",
      "34.71645700285829\n",
      "34.60921376943678\n",
      "31.9079226066283\n",
      "35.56265104502816\n",
      "32.74068297371073\n",
      "34.45071346679951\n",
      "35.0131734518386\n",
      "33.45687908647895\n",
      "36.75002967735988\n",
      "34.452338518473084\n",
      "33.73347613236184\n",
      "35.4042839659513\n",
      "35.5530369632481\n",
      "31.465150263481036\n",
      "34.51211228623865\n",
      "33.702554537740845\n",
      "31.38533931523358\n",
      "35.51782194648612\n",
      "35.55368965402663\n",
      "33.462816281374295\n",
      "33.64431889822128\n",
      "34.16184840200454\n",
      "33.82233197353176\n",
      "34.77287591544764\n",
      "33.2207847140938\n",
      "32.81459070726084\n",
      "32.36683750965473\n",
      "34.16501349925116\n",
      "33.80461138796153\n",
      "33.351351250621335\n",
      "33.189160582130974\n",
      "33.48841471634606\n",
      "33.44250769419124\n",
      "35.01908194632746\n",
      "31.919019959814197\n",
      "34.74643764789826\n",
      "32.02267831554761\n",
      "30.97485424978139\n",
      "33.046868437440054\n",
      "30.720523082648622\n",
      "33.36858053057861\n",
      "32.33653843338221\n",
      "31.640298137212678\n",
      "32.96260000251476\n",
      "31.83329754510074\n",
      "32.80459018872189\n",
      "31.665878742205017\n",
      "31.051150397248612\n",
      "32.82911584281204\n",
      "30.490650566317523\n",
      "30.79742462997399\n",
      "30.644292969694877\n",
      "31.793258593631077\n",
      "31.13775060306356\n",
      "31.131555822733386\n",
      "31.483443921487964\n",
      "29.929478691855365\n",
      "32.05548114209877\n",
      "30.098755159672965\n",
      "32.12771002502859\n",
      "32.085883480830255\n",
      "31.58335088480015\n",
      "30.92360900871567\n",
      "31.932567312004526\n",
      "30.291528637031394\n",
      "32.14049707678647\n",
      "33.283974402887615\n",
      "29.820732135067708\n",
      "29.84101149221851\n",
      "34.105693448623974\n",
      "32.54285252368827\n",
      "31.81031652658957\n",
      "31.23325772429149\n",
      "33.151159239323434\n",
      "30.790310711144542\n",
      "32.178917382549464\n",
      "29.719768929237723\n",
      "32.12856295049453\n",
      "29.059654356737042\n",
      "31.8694031135356\n",
      "30.872880363301203\n",
      "33.09247980002255\n",
      "31.894911700802343\n",
      "31.655599679803853\n",
      "30.76087330315201\n",
      "32.415215980108094\n",
      "30.344106244578008\n",
      "31.137027268431254\n",
      "29.355715910412375\n",
      "31.982908922797602\n",
      "30.962686627086455\n",
      "30.57115849137101\n",
      "31.057257057901285\n",
      "29.279110897042884\n",
      "27.961934166951714\n",
      "32.37829455059458\n",
      "36.838672527382975\n",
      "28.430934802578136\n",
      "33.59669126548076\n",
      "37.521612991354694\n",
      "32.92729093694989\n",
      "34.03425627717992\n",
      "34.013288945464566\n",
      "32.15965676033337\n",
      "33.111574701900956\n",
      "31.689840072850444\n",
      "31.952603768741145\n",
      "32.36506057194688\n",
      "32.39837850795314\n",
      "32.06630652388003\n",
      "30.669738514542985\n",
      "33.05939018545618\n",
      "33.04700809599737\n",
      "31.649672142646384\n",
      "31.627539323067975\n",
      "31.87366286572248\n",
      "31.19747603663799\n",
      "31.01593283806401\n",
      "31.589919270168835\n",
      "32.44842591266465\n",
      "32.344510711403004\n",
      "29.98005889528313\n",
      "31.66495833232585\n",
      "32.49603397783923\n",
      "31.130359503449302\n",
      "30.201653549789768\n",
      "30.502133635263426\n",
      "32.319760863205126\n",
      "29.128413340440016\n",
      "32.89802906498653\n",
      "30.814914977123642\n",
      "30.869923567990195\n",
      "30.623484292202725\n",
      "30.49366184279519\n",
      "31.869599486216966\n",
      "28.241282397277008\n",
      "29.301058846915666\n",
      "30.248598952022437\n",
      "29.2331573749389\n",
      "32.07542875806039\n",
      "30.864015702336296\n",
      "29.526446959479152\n",
      "29.422430420259737\n",
      "29.508310889717972\n",
      "28.52818151983055\n",
      "29.834534192460026\n",
      "30.26098782452973\n",
      "29.584589687999216\n",
      "30.474315999181716\n",
      "30.247001493502\n",
      "27.74132119963651\n",
      "29.045445520180806\n",
      "30.21923283548508\n",
      "29.80245710340296\n",
      "27.641080677373647\n",
      "31.878244797309836\n",
      "26.015446830084088\n",
      "29.942101091896298\n",
      "28.584756434241665\n",
      "28.34180264253154\n",
      "27.657601108626178\n",
      "30.052051806146277\n",
      "28.626154642670745\n",
      "25.51907486940633\n",
      "24.214463406562313\n",
      "29.9541051660865\n",
      "25.64981203684256\n",
      "29.969142474786764\n",
      "28.682652111618204\n",
      "25.901813800907252\n",
      "24.714682091571788\n",
      "31.049531490861774\n",
      "28.355905362308043\n",
      "33.807247981539504\n",
      "36.30999489473817\n",
      "31.16157313183633\n",
      "32.76861478543301\n",
      "33.22882034767298\n",
      "30.280952746494908\n",
      "35.92340453626262\n",
      "30.600049638328933\n",
      "32.0771234073894\n",
      "31.4410451186286\n",
      "32.96993513034185\n",
      "32.02040024008786\n",
      "32.26209163722701\n",
      "34.17415548669264\n",
      "31.25952163097528\n",
      "34.605292827753125\n",
      "31.83277330315962\n",
      "28.9507477612046\n",
      "33.88258715579522\n",
      "32.066439263356905\n",
      "28.509638603235093\n",
      "27.293537364259127\n",
      "32.92381024440518\n",
      "31.239563794795355\n",
      "29.081131492042665\n",
      "29.629542063383134\n",
      "29.089920614592252\n",
      "30.97998149988718\n",
      "25.685035259286966\n",
      "29.15145738622193\n",
      "24.866105012450113\n",
      "30.530921146903385\n",
      "24.925009638898647\n",
      "25.364873633902498\n",
      "31.56637061556642\n",
      "28.00188205177001\n",
      "26.870808000961723\n",
      "27.805228308560142\n",
      "29.895165305020637\n",
      "27.01760631445761\n",
      "27.054358991881013\n",
      "28.434416795276366\n",
      "26.822639461132162\n",
      "25.627738358541162\n",
      "29.719690169981007\n",
      "26.026390317580848\n",
      "29.473203374596316\n",
      "27.43311157738618\n",
      "27.434238145196183\n",
      "25.936710705186243\n",
      "Finished optimization.\n"
     ]
    }
   ],
   "source": [
    "from tqdm import tqdm\n",
    "# Define the optimizer\n",
    "from qiskit.algorithms.optimizers import SPSA\n",
    "optimizer = SPSA(maxiter = 100)\n",
    "\n",
    "# Define the cost function to be minimized by the optimizer\n",
    "def cost_function(params):\n",
    "\n",
    "    cost = 0\n",
    "    estimator = Estimator()\n",
    "    observables = (\n",
    "        SparsePauliOp(\"IIIIZIIII\")\n",
    "    )\n",
    "    \n",
    "    for x, y in zip(x_train, y_train):\n",
    "        # Create a Quantum Circuit acting on a quantum register of nine qubits\n",
    "        circ = make_circuit(x, params, layers)        \n",
    "\n",
    "        circuits = (\n",
    "            circ,\n",
    "        )\n",
    "\n",
    "        job = estimator.run(circuits, observables)\n",
    "        result = job.result().values[0]\n",
    "        \n",
    "        prediction = (result + 1)/2\n",
    "        \n",
    "        cost += l2_loss(prediction, y)\n",
    "        \n",
    "    print(cost)\n",
    "    return cost\n",
    "\n",
    "# Initialize the parameters\n",
    "params = np.random.rand(9*layers)*2*np.pi\n",
    "\n",
    "# Train the circuit\n",
    "print('Initial parameters:', params)\n",
    "\n",
    "# Check the qiskit docs to figure out how to start an optimizer\n",
    "result = optimizer.minimize(cost_function, x0 = params)\n",
    "print(\"Finished optimization.\")"
   ]
  },
  {
   "cell_type": "code",
   "execution_count": 27,
   "id": "f48e0584",
   "metadata": {},
   "outputs": [],
   "source": [
    "def predict(data, params):\n",
    "    circ = make_circuit(data, params, layers)\n",
    "\n",
    "    #TODO:  create observables and measure\n",
    "\n",
    "    estimator = Estimator()\n",
    "    observables = (\n",
    "        SparsePauliOp(\"IIIIZIIII\")\n",
    "    )\n",
    "    \n",
    "    circuits = (\n",
    "            circ\n",
    "        )\n",
    "\n",
    "    job = estimator.run(circuits, observables)\n",
    "    result = job.result().values[0]\n",
    "    \n",
    "    \n",
    "\n",
    "    return (result + 1)/2"
   ]
  },
  {
   "cell_type": "code",
   "execution_count": 28,
   "id": "1546e86a",
   "metadata": {},
   "outputs": [
    {
     "name": "stdout",
     "output_type": "stream",
     "text": [
      "Train data:\n",
      "Correct guesses: 105/132 (80%)\n",
      "L2 Loss: 0.1964902326150473\n",
      "Test data:\n",
      "Correct guesses: 232/308 (75%)\n",
      "L2 Loss: 0.19855525832542678\n"
     ]
    }
   ],
   "source": [
    "def test_model(params, x_data, y_data):\n",
    "    total_loss = 0\n",
    "    correct_guesses = 0\n",
    "    i = 0\n",
    "    for x, y in zip(x_data, y_data):\n",
    "        pred = predict(x, params)\n",
    "        pred_discrete = round(pred)\n",
    "        total_loss += l2_loss(pred, y)\n",
    "        correct_guesses += np.all(pred_discrete == y)\n",
    "        \n",
    "        if i % 200 == 0 and False: \n",
    "            print(\"Correct output:\", y)\n",
    "            print(\"Actual output:\", pred)\n",
    "            print(\"Discrete_output:\", pred_discrete)\n",
    "            print(\"---------------\")\n",
    "\n",
    "    total_loss = total_loss / len(x_data)\n",
    "\n",
    "    print(\"Correct guesses: {}/{} ({}%)\".format(correct_guesses, len(x_data), round(correct_guesses/len(x_data)*100)))\n",
    "    print(\"L2 Loss: {}\".format(total_loss))\n",
    "    \n",
    "print(\"Train data:\")\n",
    "test_model(result.x, x_train, y_train)\n",
    "\n",
    "print(\"Test data:\")\n",
    "test_model(result.x, x_test, y_test)"
   ]
  },
  {
   "cell_type": "code",
   "execution_count": null,
   "id": "81e1f08a",
   "metadata": {},
   "outputs": [],
   "source": []
  }
 ],
 "metadata": {
  "kernelspec": {
   "display_name": "Python 3",
   "language": "python",
   "name": "python3"
  },
  "language_info": {
   "codemirror_mode": {
    "name": "ipython",
    "version": 3
   },
   "file_extension": ".py",
   "mimetype": "text/x-python",
   "name": "python",
   "nbconvert_exporter": "python",
   "pygments_lexer": "ipython3",
   "version": "3.8.8"
  }
 },
 "nbformat": 4,
 "nbformat_minor": 5
}
