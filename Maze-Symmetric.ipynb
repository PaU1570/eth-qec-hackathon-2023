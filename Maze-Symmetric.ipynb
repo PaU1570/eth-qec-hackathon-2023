{
 "cells": [
  {
   "cell_type": "markdown",
   "id": "bf3022d0",
   "metadata": {
    "ExecuteTime": {
     "end_time": "2023-05-06T20:00:57.554735Z",
     "start_time": "2023-05-06T20:00:57.535532Z"
    }
   },
   "source": [
    "# Classifying 3x3 mazes - Using symmetry\n",
    "In this notebook we use the same Quantum Machine Learing approach as for the Tic-Tac-Toe boards, but for a different application: determining whether a path exists between any two corners of a 3x3 maze. The following cells show some examples, where the mazes are colored green or red depending on whether it is solvable or not, respectively."
   ]
  },
  {
   "cell_type": "code",
   "execution_count": 5,
   "id": "a5b4a640",
   "metadata": {},
   "outputs": [],
   "source": [
    "from qiskit import *\n",
    "import numpy as np\n",
    "import maze as m\n",
    "\n",
    "from qiskit.quantum_info import SparsePauliOp\n",
    "from qiskit.primitives import Estimator\n",
    "\n",
    "from qiskit_aer.noise import (NoiseModel, QuantumError, ReadoutError,\n",
    "    pauli_error, depolarizing_error, thermal_relaxation_error)\n",
    "\n",
    "\n",
    "def make_circuit(x, params, layers):\n",
    "    circ = QuantumCircuit(9)\n",
    "    p = 0.01\n",
    "    noise_model = NoiseModel()\n",
    "    for qubit in range(9):\n",
    "        bit_flip = pauli_error([('X', p), ('I', 1 - p)])\n",
    "        phase_flip = pauli_error([('Z', p), ('I', 1 - p)])\n",
    "        noise_model.add_quantum_error(bit_flip, 'x', [qubit])\n",
    "        noise_model.add_quantum_error(phase_flip, 'z', [qubit])\n",
    "    circ.noise_model = noise_model\n",
    "    for i in range(layers):\n",
    "        l = i*9\n",
    "        m.encode_data(x, circ)\n",
    "        m.add_single_qubit_gates(params[l:l+6], circ)\n",
    "        m.add_two_qubit_gates(params[l+6:l+9], circ)\n",
    "\n",
    "    return circ\n",
    "# Create a Quantum Circuit acting on a quantum register of nine qubits\n",
    "\n",
    "layers = 4\n",
    "\n",
    "params = np.random.rand(9*layers)*2*np.pi\n",
    "circ = make_circuit([1,1,0,0,0,1,0,0,0], params, layers)\n",
    "\n",
    "maze_fields, grid_combinations = m.generate_maze_field()"
   ]
  },
  {
   "cell_type": "code",
   "execution_count": 6,
   "id": "646ec2da",
   "metadata": {
    "ExecuteTime": {
     "end_time": "2023-05-06T20:00:58.284907Z",
     "start_time": "2023-05-06T20:00:58.272312Z"
    }
   },
   "outputs": [],
   "source": [
    "# Define the loss function\n",
    "def l2_loss(output, target):\n",
    "    output, target = np.array(output), np.array(target)\n",
    "    return np.abs(output - target)**2"
   ]
  },
  {
   "cell_type": "code",
   "execution_count": 7,
   "id": "af288741",
   "metadata": {
    "ExecuteTime": {
     "end_time": "2023-05-06T20:00:59.522807Z",
     "start_time": "2023-05-06T20:00:59.487528Z"
    },
    "scrolled": false
   },
   "outputs": [
    {
     "data": {
      "image/png": "[encoded data removed]",
      "text/plain": [
       "<Figure size 288x288 with 1 Axes>"
      ]
     },
     "metadata": {},
     "output_type": "display_data"
    },
    {
     "data": {
      "image/png": "[encoded data removed]",
      "text/plain": [
       "<Figure size 288x288 with 1 Axes>"
      ]
     },
     "metadata": {},
     "output_type": "display_data"
    },
    {
     "data": {
      "image/png": "[encoded data removed]",
      "text/plain": [
       "<Figure size 288x288 with 1 Axes>"
      ]
     },
     "metadata": {},
     "output_type": "display_data"
    },
    {
     "data": {
      "image/png": "[encoded data removed]",
      "text/plain": [
       "<Figure size 288x288 with 1 Axes>"
      ]
     },
     "metadata": {},
     "output_type": "display_data"
    },
    {
     "data": {
      "image/png": "[encoded data removed]",
      "text/plain": [
       "<Figure size 288x288 with 1 Axes>"
      ]
     },
     "metadata": {},
     "output_type": "display_data"
    },
    {
     "data": {
      "image/png": "[encoded data removed]",
      "text/plain": [
       "<Figure size 288x288 with 1 Axes>"
      ]
     },
     "metadata": {},
     "output_type": "display_data"
    },
    {
     "data": {
      "image/png": "[encoded data removed]",
      "text/plain": [
       "<Figure size 288x288 with 1 Axes>"
      ]
     },
     "metadata": {},
     "output_type": "display_data"
    },
    {
     "data": {
      "image/png": "[encoded data removed]",
      "text/plain": [
       "<Figure size 288x288 with 1 Axes>"
      ]
     },
     "metadata": {},
     "output_type": "display_data"
    },
    {
     "data": {
      "image/png": "[encoded data removed]",
      "text/plain": [
       "<Figure size 288x288 with 1 Axes>"
      ]
     },
     "metadata": {},
     "output_type": "display_data"
    },
    {
     "data": {
      "image/png": "[encoded data removed]",
      "text/plain": [
       "<Figure size 288x288 with 1 Axes>"
      ]
     },
     "metadata": {},
     "output_type": "display_data"
    }
   ],
   "source": [
    "x = maze_fields\n",
    "y = m.check(grid_combinations)\n",
    "#print(x)\n",
    "#print(y)\n",
    "\n",
    "# shuffle the indices\n",
    "shuffle_indices = np.random.permutation(len(x))\n",
    "train_size = int(len(x) * 0.3)\n",
    "\n",
    "# split the indices into training and testing sets\n",
    "train_indices = np.array(shuffle_indices[:train_size])\n",
    "test_indices = np.array(shuffle_indices[train_size:])\n",
    "\n",
    "# create the training and testing sets\n",
    "x_train, y_train = np.take(x, train_indices, axis=0), np.take(y, train_indices, axis=0)\n",
    "x_test, y_test = np.take(x, test_indices, axis=0), np.take(y, test_indices, axis=0)\n",
    "\n",
    "for maze in x[:10]:\n",
    "    m.plot_maze(maze)"
   ]
  },
  {
   "cell_type": "markdown",
   "id": "7362570c",
   "metadata": {},
   "source": [
    "### Run the optimization"
   ]
  },
  {
   "cell_type": "code",
   "execution_count": 8,
   "id": "d93ee256",
   "metadata": {
    "ExecuteTime": {
     "end_time": "2023-05-06T20:19:30.978758Z",
     "start_time": "2023-05-06T20:02:05.325990Z"
    },
    "scrolled": false
   },
   "outputs": [
    {
     "name": "stdout",
     "output_type": "stream",
     "text": [
      "Initial parameters: [2.66842631 4.8846911  2.68191017 1.79025947 3.48852204 1.53658674\n",
      " 0.75552037 3.72404799 3.19123273 1.18275003 2.66589807 2.37061126\n",
      " 0.52102629 4.95969118 0.76845825 0.40815113 4.6502502  2.9086798\n",
      " 3.99176193 1.25576734 0.56627402 5.58964035 4.65209565 3.2753886\n",
      " 4.4481009  1.98593788 3.85858056 2.79700557 3.27869395 3.20817251\n",
      " 2.54006901 2.41003705 2.04502204 0.81004736 4.46014954 2.46450228]\n",
      "33.04324291399726\n",
      "33.20745440393526\n",
      "32.65838036216559\n",
      "33.34372268042215\n",
      "34.41089234642641\n",
      "32.78792437168401\n",
      "33.84785945327441\n",
      "33.4625338668487\n",
      "33.75105650195331\n",
      "32.61611875837937\n",
      "33.02531332626444\n",
      "33.35994888077417\n",
      "33.164694732477585\n",
      "32.72931766140106\n",
      "32.455549496070745\n",
      "33.212678796947905\n",
      "32.77284647402786\n",
      "33.05167801396262\n",
      "32.48372424926208\n",
      "33.51454673350422\n",
      "32.23061194561675\n",
      "33.211039775333674\n",
      "32.55833317721817\n",
      "33.055891042898566\n",
      "32.22387453671108\n",
      "33.11433753908818\n",
      "33.16208405119477\n",
      "33.0589812529777\n",
      "32.312527797441156\n",
      "33.49733766619641\n",
      "32.93289334637625\n",
      "32.641918166482746\n",
      "33.23646546205701\n",
      "32.89111522000057\n",
      "32.977483690164625\n",
      "33.5140834591987\n",
      "33.51630915036189\n",
      "33.135204945466946\n",
      "32.86746117936992\n",
      "33.3882735144463\n",
      "33.8363065338345\n",
      "32.860899399272995\n",
      "33.632954310933556\n",
      "32.487661024215306\n",
      "34.070638922938905\n",
      "32.529747781039504\n",
      "33.440840763277\n",
      "32.78750365943818\n",
      "33.79570484721736\n",
      "32.410400582188004\n",
      "33.676710068321285\n",
      "32.52213765980278\n",
      "32.95813812124021\n",
      "34.57332549620018\n",
      "32.392957665045046\n",
      "32.0244744995127\n",
      "33.79180613609819\n",
      "30.321690850335838\n",
      "32.264271650247\n",
      "32.56269526262969\n",
      "33.082644351136885\n",
      "32.61083326545671\n",
      "32.55902238160076\n",
      "33.57385559213427\n",
      "32.67494005018339\n",
      "33.66140197752482\n",
      "33.789132323187175\n",
      "35.47835140811977\n",
      "34.41024329751844\n",
      "34.16771393738648\n",
      "34.976297944330156\n",
      "34.09495763721093\n",
      "32.597802184435075\n",
      "33.524614613976276\n",
      "33.32074078326768\n",
      "32.633725012005755\n",
      "33.39095622016765\n",
      "32.46604850312\n",
      "32.983235050303094\n",
      "33.14027381422852\n",
      "31.75518217155082\n",
      "32.450482013174714\n",
      "31.75819680007686\n",
      "32.47476165138336\n",
      "32.27106043747898\n",
      "32.79618520200769\n",
      "32.417548239397256\n",
      "31.848174131388454\n",
      "31.32922809198062\n",
      "31.948626390631333\n",
      "30.67254981680806\n",
      "32.15668692310918\n",
      "31.285832376454145\n",
      "31.718561456930363\n",
      "32.02604861390424\n",
      "31.255271309434328\n",
      "31.753128538315263\n",
      "31.67800237202184\n",
      "32.01492020626793\n",
      "32.9076304165827\n",
      "32.92969934983541\n",
      "32.34331680936686\n",
      "32.10126913614582\n",
      "32.25339799736891\n",
      "32.77159375478414\n",
      "32.32829442639728\n",
      "32.11598099682966\n",
      "32.795796879216184\n",
      "32.046075320083\n",
      "32.547308359988506\n",
      "33.01907773697677\n",
      "32.128454740034165\n",
      "32.24334056538625\n",
      "33.36733465912631\n",
      "32.04487661642774\n",
      "33.296901530796085\n",
      "33.44826131751739\n",
      "33.536522760429555\n",
      "32.50844141610136\n",
      "31.764159132909757\n",
      "31.355427531573078\n",
      "33.92546543754542\n",
      "31.873335619804344\n",
      "32.90741249541267\n",
      "32.451148947884455\n",
      "31.85447585823642\n",
      "31.950740078583333\n",
      "31.61049040279761\n",
      "32.67977235943814\n",
      "32.79241447801175\n",
      "32.190854244039606\n",
      "32.42709883732681\n",
      "32.217617069704694\n",
      "32.66672284126518\n",
      "33.08597330495386\n",
      "31.372086025541343\n",
      "32.61130066385528\n",
      "31.75272056234107\n",
      "32.31883167262734\n",
      "31.67111787177513\n",
      "32.49624303555391\n",
      "31.993340543129758\n",
      "32.71457926843761\n",
      "32.89044399107074\n",
      "32.13453012479991\n",
      "31.870593953811337\n",
      "31.89793634327481\n",
      "32.826999072333\n",
      "30.742828859235953\n",
      "33.741936219001275\n",
      "33.64523302736565\n",
      "31.670822431222714\n",
      "33.024529404988435\n",
      "32.99916243347156\n",
      "31.99956541432011\n",
      "36.18265385854259\n",
      "34.74230674234204\n",
      "34.842074200854235\n",
      "33.69156131125917\n",
      "36.619779019565\n",
      "33.20708924624165\n",
      "33.94187076297301\n",
      "33.58980683877285\n",
      "32.92164865270282\n",
      "33.14777153951733\n",
      "32.79275982724743\n",
      "32.080432536894065\n",
      "33.828836214087744\n",
      "32.12579335349613\n",
      "32.52308338485676\n",
      "32.35095039976769\n",
      "31.556545951321755\n",
      "31.26876920832435\n",
      "32.7875478529979\n",
      "32.009297741349236\n",
      "31.08399048472089\n",
      "30.896064706477077\n",
      "32.73141494311782\n",
      "31.193206118624957\n",
      "31.824776507092075\n",
      "32.01862144720039\n",
      "31.82630838024702\n",
      "30.83248177119539\n",
      "32.07105518840493\n",
      "31.60202295363619\n",
      "31.75028505372192\n",
      "30.85084323199146\n",
      "32.38574666900661\n",
      "32.50165651127745\n",
      "31.297684535081885\n",
      "30.89335588305388\n",
      "30.962884345843758\n",
      "32.298677096272876\n",
      "30.648487060406435\n",
      "29.439008530944957\n",
      "32.51988458506425\n",
      "32.10252511399896\n",
      "30.84198054078357\n",
      "32.36729930715966\n",
      "31.40277406969009\n",
      "30.260336021569206\n",
      "31.630484270863054\n",
      "31.811494188990945\n",
      "30.51064553042824\n",
      "30.442932112896127\n",
      "31.330401286957514\n",
      "30.064838819410877\n",
      "32.01897923885481\n",
      "30.276274408711508\n",
      "31.513455909054894\n",
      "29.635122107513666\n",
      "32.702419864414225\n",
      "30.04503740687334\n",
      "32.18856447856498\n",
      "32.6020043467848\n",
      "30.15526839543655\n",
      "30.751581742432716\n",
      "30.61843907716168\n",
      "28.819440201070254\n",
      "33.19389592487619\n",
      "33.81071857704457\n",
      "33.61673157215542\n",
      "35.92782567209573\n",
      "32.19068297775046\n",
      "32.73112943195074\n",
      "32.454102765247654\n",
      "31.867760110537432\n",
      "32.888900596766106\n",
      "31.795166101481634\n",
      "31.37937918462892\n",
      "32.66128869920519\n",
      "32.644147874159\n",
      "32.45993337785904\n",
      "32.07475463713542\n",
      "32.30289518780556\n",
      "32.636847325103005\n",
      "31.364845128211353\n",
      "31.889192117148927\n",
      "31.545153967024277\n",
      "32.02477566813481\n",
      "31.918784243382895\n",
      "32.128654781582505\n",
      "31.99287759375518\n",
      "31.046033233397626\n",
      "32.01230485858516\n",
      "32.6252718600334\n",
      "31.766843211778028\n",
      "32.30087665369349\n",
      "32.106103095025794\n",
      "30.958394892342813\n",
      "31.01233999577114\n",
      "Finished optimization.\n"
     ]
    }
   ],
   "source": [
    "from tqdm import tqdm\n",
    "# Define the optimizer\n",
    "from qiskit.algorithms.optimizers import SPSA\n",
    "optimizer = SPSA(maxiter = 100)\n",
    "\n",
    "# Define the cost function to be minimized by the optimizer\n",
    "def cost_function(params):\n",
    "\n",
    "    cost = 0\n",
    "    estimator = Estimator()\n",
    "    observables = (\n",
    "        SparsePauliOp(\"IIIIZIIII\")\n",
    "    )\n",
    "    \n",
    "    for x, y in zip(x_train, y_train):\n",
    "        # Create a Quantum Circuit acting on a quantum register of nine qubits\n",
    "        circ = make_circuit(x, params, layers)        \n",
    "\n",
    "        circuits = (\n",
    "            circ,\n",
    "        )\n",
    "\n",
    "        job = estimator.run(circuits, observables)\n",
    "        result = job.result().values[0]\n",
    "        \n",
    "        prediction = (result + 1)/2\n",
    "        \n",
    "        cost += l2_loss(prediction, y)\n",
    "        \n",
    "    print(cost)\n",
    "    return cost\n",
    "\n",
    "# Initialize the parameters\n",
    "params = np.random.rand(9*layers)*2*np.pi\n",
    "\n",
    "# Train the circuit\n",
    "print('Initial parameters:', params)\n",
    "\n",
    "# Check the qiskit docs to figure out how to start an optimizer\n",
    "result = optimizer.minimize(cost_function, x0 = params)\n",
    "print(\"Finished optimization.\")"
   ]
  },
  {
   "cell_type": "code",
   "execution_count": 9,
   "id": "f48e0584",
   "metadata": {},
   "outputs": [],
   "source": [
    "def predict(data, params):\n",
    "    circ = make_circuit(data, params, layers)\n",
    "\n",
    "    #TODO:  create observables and measure\n",
    "\n",
    "    estimator = Estimator()\n",
    "    observables = (\n",
    "        SparsePauliOp(\"IIIIZIIII\")\n",
    "    )\n",
    "    \n",
    "    circuits = (\n",
    "            circ\n",
    "        )\n",
    "\n",
    "    job = estimator.run(circuits, observables)\n",
    "    result = job.result().values[0]\n",
    "    \n",
    "    \n",
    "\n",
    "    return (result + 1)/2"
   ]
  },
  {
   "cell_type": "code",
   "execution_count": 10,
   "id": "1546e86a",
   "metadata": {},
   "outputs": [
    {
     "name": "stdout",
     "output_type": "stream",
     "text": [
      "Train data:\n",
      "Correct guesses: 89/132 (67%)\n",
      "L2 Loss: 0.23494196966493286\n",
      "Test data:\n",
      "Correct guesses: 172/308 (56%)\n",
      "L2 Loss: 0.24272333939621787\n"
     ]
    }
   ],
   "source": [
    "def test_model(params, x_data, y_data):\n",
    "    total_loss = 0\n",
    "    correct_guesses = 0\n",
    "    i = 0\n",
    "    for x, y in zip(x_data, y_data):\n",
    "        pred = predict(x, params)\n",
    "        pred_discrete = round(pred)\n",
    "        total_loss += l2_loss(pred, y)\n",
    "        correct_guesses += np.all(pred_discrete == y)\n",
    "        \n",
    "        if i % 200 == 0 and False: \n",
    "            print(\"Correct output:\", y)\n",
    "            print(\"Actual output:\", pred)\n",
    "            print(\"Discrete_output:\", pred_discrete)\n",
    "            print(\"---------------\")\n",
    "\n",
    "    total_loss = total_loss / len(x_data)\n",
    "\n",
    "    print(\"Correct guesses: {}/{} ({}%)\".format(correct_guesses, len(x_data), round(correct_guesses/len(x_data)*100)))\n",
    "    print(\"L2 Loss: {}\".format(total_loss))\n",
    "    \n",
    "print(\"Train data:\")\n",
    "test_model(result.x, x_train, y_train)\n",
    "\n",
    "print(\"Test data:\")\n",
    "test_model(result.x, x_test, y_test)"
   ]
  },
  {
   "cell_type": "code",
   "execution_count": null,
   "id": "81e1f08a",
   "metadata": {},
   "outputs": [],
   "source": []
  }
 ],
 "metadata": {
  "kernelspec": {
   "display_name": "Python 3",
   "language": "python",
   "name": "python3"
  },
  "language_info": {
   "codemirror_mode": {
    "name": "ipython",
    "version": 3
   },
   "file_extension": ".py",
   "mimetype": "text/x-python",
   "name": "python",
   "nbconvert_exporter": "python",
   "pygments_lexer": "ipython3",
   "version": "3.8.8"
  }
 },
 "nbformat": 4,
 "nbformat_minor": 5
}
